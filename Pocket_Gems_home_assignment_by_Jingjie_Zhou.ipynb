{
  "nbformat": 4,
  "nbformat_minor": 0,
  "metadata": {
    "colab": {
      "name": "Pocket Gems home assignment by Jingjie Zhou.ipynb",
      "provenance": [],
      "collapsed_sections": [],
      "machine_shape": "hm"
    },
    "kernelspec": {
      "name": "python3",
      "display_name": "Python 3"
    }
  },
  "cells": [
    {
      "cell_type": "code",
      "metadata": {
        "id": "ALnaB7Tlh5E8",
        "colab_type": "code",
        "colab": {
          "base_uri": "https://localhost:8080/",
          "height": 34
        },
        "outputId": "98bbba62-7c87-49f0-f07d-689081459771"
      },
      "source": [
        "pip install pymysql"
      ],
      "execution_count": 327,
      "outputs": [
        {
          "output_type": "stream",
          "text": [
            "Requirement already satisfied: pymysql in /usr/local/lib/python3.6/dist-packages (0.9.3)\n"
          ],
          "name": "stdout"
        }
      ]
    },
    {
      "cell_type": "code",
      "metadata": {
        "id": "W2m4VhyYzHNa",
        "colab_type": "code",
        "colab": {
          "base_uri": "https://localhost:8080/",
          "height": 170
        },
        "outputId": "2f74d4ef-0034-4d76-ecf3-d6f952152a54"
      },
      "source": [
        "pip install h2o"
      ],
      "execution_count": 328,
      "outputs": [
        {
          "output_type": "stream",
          "text": [
            "Requirement already satisfied: h2o in /usr/local/lib/python3.6/dist-packages (3.30.0.1)\n",
            "Requirement already satisfied: tabulate in /usr/local/lib/python3.6/dist-packages (from h2o) (0.8.7)\n",
            "Requirement already satisfied: future in /usr/local/lib/python3.6/dist-packages (from h2o) (0.16.0)\n",
            "Requirement already satisfied: colorama>=0.3.8 in /usr/local/lib/python3.6/dist-packages (from h2o) (0.4.3)\n",
            "Requirement already satisfied: requests in /usr/local/lib/python3.6/dist-packages (from h2o) (2.21.0)\n",
            "Requirement already satisfied: chardet<3.1.0,>=3.0.2 in /usr/local/lib/python3.6/dist-packages (from requests->h2o) (3.0.4)\n",
            "Requirement already satisfied: urllib3<1.25,>=1.21.1 in /usr/local/lib/python3.6/dist-packages (from requests->h2o) (1.24.3)\n",
            "Requirement already satisfied: certifi>=2017.4.17 in /usr/local/lib/python3.6/dist-packages (from requests->h2o) (2020.4.5.1)\n",
            "Requirement already satisfied: idna<2.9,>=2.5 in /usr/local/lib/python3.6/dist-packages (from requests->h2o) (2.8)\n"
          ],
          "name": "stdout"
        }
      ]
    },
    {
      "cell_type": "code",
      "metadata": {
        "id": "koQTyDUriceE",
        "colab_type": "code",
        "colab": {}
      },
      "source": [
        "import pymysql\n",
        "import pandas as pd\n",
        "import datetime as dt\n",
        "import seaborn as sns\n",
        "from sqlalchemy import create_engine\n",
        "import matplotlib.pyplot as plt\n",
        "import numpy as np\n",
        "import h2o\n",
        "from h2o.frame import H2OFrame\n",
        "from h2o.grid.grid_search import H2OGridSearch\n",
        "from sklearn.metrics import auc, roc_curve, classification_report\n",
        "from sklearn.model_selection import train_test_split\n",
        "from h2o.estimators.random_forest import H2ORandomForestEstimator\n",
        "pd.set_option('display.max_columns',None)\n",
        "pd.set_option('display.max_rows',None)"
      ],
      "execution_count": 0,
      "outputs": []
    },
    {
      "cell_type": "markdown",
      "metadata": {
        "id": "95f00zzYiq8y",
        "colab_type": "text"
      },
      "source": [
        "### **Part 1: Load Dataset**\n",
        "1.1 Read data from database"
      ]
    },
    {
      "cell_type": "code",
      "metadata": {
        "id": "IVcYrMlqiqOG",
        "colab_type": "code",
        "colab": {}
      },
      "source": [
        "#spendevents data\n",
        "db = pymysql.connect(host='34.217.198.153',user='jingjie',passwd='pg_Passw0rd',db='homework',port=3306,charset='latin1')\n",
        "cursor = db.cursor()\n",
        "spendevents = cursor.execute(\"select * from spendevents\")\n",
        "try:\n",
        "   results = cursor.fetchall()\n",
        "except:\n",
        "   print (\"Error: unable to fetch spendevents data\")\n",
        "spendevents = pd.DataFrame(results,columns=['udid','ts','date','story','chapter','spendtype','currency','amount'])\n",
        "\n",
        "#iaps data\n",
        "iaps = cursor.execute(\"select * from iaps\")\n",
        "try:\n",
        "   results = cursor.fetchall()\n",
        "except:\n",
        "   print (\"Error: unable to fetch iaps data\")\n",
        "iaps = pd.DataFrame(results,columns=['udid','ts','date','prod_name','prod_type','rev'])\n",
        "\n",
        "#users data\n",
        "users = cursor.execute(\"select * from users\")\n",
        "try:\n",
        "   results = cursor.fetchall()\n",
        "except:\n",
        "   print (\"Error: unable to fetch users data\")\n",
        "users = pd.DataFrame(results,columns=['udid','install_date','language','country','hw_ver','os_ver'])\n",
        "\n",
        "#sessions data\n",
        "sessions = cursor.execute(\"select udid, ts,date,session_num from sessions\")\n",
        "try:\n",
        "   results = cursor.fetchall()\n",
        "except:\n",
        "   print (\"Error: unable to fetch sessions data\")\n",
        "sessions = pd.DataFrame(results,columns=['udid','ts','date','session_num'])"
      ],
      "execution_count": 0,
      "outputs": []
    },
    {
      "cell_type": "markdown",
      "metadata": {
        "id": "pNEUSyI8j5vd",
        "colab_type": "text"
      },
      "source": [
        "1.2 Check all datasets' details"
      ]
    },
    {
      "cell_type": "code",
      "metadata": {
        "id": "Y3r0a3aLie1a",
        "colab_type": "code",
        "colab": {
          "base_uri": "https://localhost:8080/",
          "height": 272
        },
        "outputId": "09ae25c9-35a0-4876-8216-e3b43948f8fa"
      },
      "source": [
        "spendevents.info()"
      ],
      "execution_count": 331,
      "outputs": [
        {
          "output_type": "stream",
          "text": [
            "<class 'pandas.core.frame.DataFrame'>\n",
            "RangeIndex: 107764 entries, 0 to 107763\n",
            "Data columns (total 8 columns):\n",
            " #   Column     Non-Null Count   Dtype         \n",
            "---  ------     --------------   -----         \n",
            " 0   udid       107764 non-null  object        \n",
            " 1   ts         107764 non-null  datetime64[ns]\n",
            " 2   date       107764 non-null  object        \n",
            " 3   story      107764 non-null  object        \n",
            " 4   chapter    107764 non-null  int64         \n",
            " 5   spendtype  107764 non-null  object        \n",
            " 6   currency   107764 non-null  object        \n",
            " 7   amount     107764 non-null  int64         \n",
            "dtypes: datetime64[ns](1), int64(2), object(5)\n",
            "memory usage: 6.6+ MB\n"
          ],
          "name": "stdout"
        }
      ]
    },
    {
      "cell_type": "code",
      "metadata": {
        "id": "N4KXUT6MkdPp",
        "colab_type": "code",
        "colab": {
          "base_uri": "https://localhost:8080/",
          "height": 238
        },
        "outputId": "b21ff831-c03c-4669-917c-786b945b7bde"
      },
      "source": [
        "iaps.info()"
      ],
      "execution_count": 332,
      "outputs": [
        {
          "output_type": "stream",
          "text": [
            "<class 'pandas.core.frame.DataFrame'>\n",
            "RangeIndex: 6685 entries, 0 to 6684\n",
            "Data columns (total 6 columns):\n",
            " #   Column     Non-Null Count  Dtype         \n",
            "---  ------     --------------  -----         \n",
            " 0   udid       6685 non-null   object        \n",
            " 1   ts         6685 non-null   datetime64[ns]\n",
            " 2   date       6685 non-null   object        \n",
            " 3   prod_name  6685 non-null   object        \n",
            " 4   prod_type  6685 non-null   object        \n",
            " 5   rev        6685 non-null   int64         \n",
            "dtypes: datetime64[ns](1), int64(1), object(4)\n",
            "memory usage: 313.5+ KB\n"
          ],
          "name": "stdout"
        }
      ]
    },
    {
      "cell_type": "code",
      "metadata": {
        "id": "aJKzdgxlkmOM",
        "colab_type": "code",
        "colab": {
          "base_uri": "https://localhost:8080/",
          "height": 204
        },
        "outputId": "8449be9a-704b-4f08-cf16-712b26d42adb"
      },
      "source": [
        "sessions.info()"
      ],
      "execution_count": 333,
      "outputs": [
        {
          "output_type": "stream",
          "text": [
            "<class 'pandas.core.frame.DataFrame'>\n",
            "RangeIndex: 722955 entries, 0 to 722954\n",
            "Data columns (total 4 columns):\n",
            " #   Column       Non-Null Count   Dtype         \n",
            "---  ------       --------------   -----         \n",
            " 0   udid         722955 non-null  object        \n",
            " 1   ts           722955 non-null  datetime64[ns]\n",
            " 2   date         722955 non-null  object        \n",
            " 3   session_num  722955 non-null  int64         \n",
            "dtypes: datetime64[ns](1), int64(1), object(2)\n",
            "memory usage: 22.1+ MB\n"
          ],
          "name": "stdout"
        }
      ]
    },
    {
      "cell_type": "code",
      "metadata": {
        "id": "V2MCnHSmkoBO",
        "colab_type": "code",
        "colab": {
          "base_uri": "https://localhost:8080/",
          "height": 238
        },
        "outputId": "1f824fe5-6672-44b9-bf11-5709f96f9bc0"
      },
      "source": [
        "users.info()"
      ],
      "execution_count": 334,
      "outputs": [
        {
          "output_type": "stream",
          "text": [
            "<class 'pandas.core.frame.DataFrame'>\n",
            "RangeIndex: 22576 entries, 0 to 22575\n",
            "Data columns (total 6 columns):\n",
            " #   Column        Non-Null Count  Dtype \n",
            "---  ------        --------------  ----- \n",
            " 0   udid          22576 non-null  object\n",
            " 1   install_date  22576 non-null  object\n",
            " 2   language      22576 non-null  object\n",
            " 3   country       22576 non-null  object\n",
            " 4   hw_ver        22576 non-null  object\n",
            " 5   os_ver        22576 non-null  object\n",
            "dtypes: object(6)\n",
            "memory usage: 1.0+ MB\n"
          ],
          "name": "stdout"
        }
      ]
    },
    {
      "cell_type": "markdown",
      "metadata": {
        "id": "ev44mWxrmUrV",
        "colab_type": "text"
      },
      "source": [
        "There is no missing value in each dataset. \n",
        "Knowing the type of each feature here is important for later modeling"
      ]
    },
    {
      "cell_type": "markdown",
      "metadata": {
        "id": "niMlD00Rmvbi",
        "colab_type": "text"
      },
      "source": [
        "# **Part 2: Data Processing**\n"
      ]
    },
    {
      "cell_type": "markdown",
      "metadata": {
        "id": "jSfnF6kCmvIj",
        "colab_type": "text"
      },
      "source": [
        "### 2.1 Label the non-payer and payer\n",
        "\n",
        "non-payer:0     \n",
        "payer:1"
      ]
    },
    {
      "cell_type": "code",
      "metadata": {
        "id": "2qXAoOoWlWeB",
        "colab_type": "code",
        "colab": {}
      },
      "source": [
        "iaps['ifbuy'] = 1\n",
        "iaps_user = pd.merge(left = users, right = iaps, on = 'udid', how = 'left')\n",
        "iaps_user['ifbuy'].fillna(0,inplace = True)"
      ],
      "execution_count": 0,
      "outputs": []
    },
    {
      "cell_type": "markdown",
      "metadata": {
        "id": "c2C1p-xmu6hX",
        "colab_type": "text"
      },
      "source": [
        "### 2.2 Dealing features"
      ]
    },
    {
      "cell_type": "markdown",
      "metadata": {
        "id": "blLU5OTOyNG7",
        "colab_type": "text"
      },
      "source": [
        " 2.2.1 Convert date columns to date type\n"
      ]
    },
    {
      "cell_type": "code",
      "metadata": {
        "id": "4EyhCdVuyy6j",
        "colab_type": "code",
        "colab": {}
      },
      "source": [
        "sessions['date'] = pd.to_datetime(sessions['date'])\n",
        "iaps_user['date'] = pd.to_datetime(iaps_user['date'])\n",
        "spendevents['date'] = pd.to_datetime(spendevents['date'])\n",
        "iaps_user['install_date'] = pd.to_datetime(iaps_user['install_date'])"
      ],
      "execution_count": 0,
      "outputs": []
    },
    {
      "cell_type": "markdown",
      "metadata": {
        "id": "mF-8PENb4Q5A",
        "colab_type": "text"
      },
      "source": [
        "2.2.2 deal with iaps features\n",
        "\n",
        "\n",
        "1.   \n",
        "When the new user installs the game, we have no idea whether the user will convert or not. So all the detail information like ts, product, revenue can not be used in the model. But purchase date here is useful for our later data filter, so I will keep it for now."
      ]
    },
    {
      "cell_type": "code",
      "metadata": {
        "id": "B5LgwoWk5Spt",
        "colab_type": "code",
        "colab": {}
      },
      "source": [
        "iaps_user.drop(['ts','prod_name','prod_type','rev'],axis = 1,inplace = True)"
      ],
      "execution_count": 0,
      "outputs": []
    },
    {
      "cell_type": "markdown",
      "metadata": {
        "id": "djP8r_Hs7J_K",
        "colab_type": "text"
      },
      "source": [
        "\n",
        "\n",
        "\n",
        "2.   \n",
        "Only care about the first time the user have the purchase action.\n",
        "Create first_p_date: first time to make the purchase\n",
        "\n"
      ]
    },
    {
      "cell_type": "code",
      "metadata": {
        "id": "jiPlL-V87kGu",
        "colab_type": "code",
        "colab": {}
      },
      "source": [
        "first_p_date = iaps_user.groupby('udid').date.min().reset_index(name = 'first_p_date')\n",
        "#iaps_user1 = pd.merge(left = iaps_user, right = first_p_date, how = 'left',on = 'udid')\n",
        "iaps_user.drop(['date'],axis = 1,inplace = True)\n",
        "iaps_user.drop_duplicates(inplace = True)"
      ],
      "execution_count": 0,
      "outputs": []
    },
    {
      "cell_type": "markdown",
      "metadata": {
        "id": "wYqCHkIqCwCV",
        "colab_type": "text"
      },
      "source": [
        "2.2.3 deal with session features\n",
        "\n",
        "\n",
        "Create new feature: daily average login times per user (avg_login)\n",
        "\n",
        "Create new feature: most frequent login hour per user (freq_hour)\n",
        "\n",
        "\n"
      ]
    },
    {
      "cell_type": "markdown",
      "metadata": {
        "id": "ypQtfJYVD2Ck",
        "colab_type": "text"
      },
      "source": [
        "Discuss non-payer and payer separately:\n",
        "\n",
        "non-payer: calculate daily average login times/most frequent login hour for all times\n",
        "           \n",
        "\n",
        "payer: calculate daily average login times/most frequent login hour before first purchase."
      ]
    },
    {
      "cell_type": "code",
      "metadata": {
        "id": "7MOx6Fy1DuVN",
        "colab_type": "code",
        "colab": {}
      },
      "source": [
        "session1 = pd.merge(left = first_p_date,right = sessions,how = 'left',on = 'udid')\n",
        "session1['hour'] = session1['ts'].dt.hour\n",
        "#non-payer\n",
        "ses_non_total = session1.loc[session1['first_p_date'].isnull()].groupby(['udid','date']).session_num.size().reset_index(name = 'total_num_login')\n",
        "ses_non_avg = ses_non_total.groupby('udid').total_num_login.mean().reset_index(name = 'avg_login')\n",
        "\n",
        "ses_non_hour1 = session1.loc[session1['first_p_date'].isnull()].groupby(['udid']).hour.apply(pd.Series.mode).reset_index(name = 'freq_hour')\n",
        "ses_non_hour = ses_non_hour1.groupby('udid').freq_hour.max().reset_index(name = 'freq_hour_m')\n",
        "## no-session user\n",
        "'''\n",
        "non_ses = session1.loc[session1['date'].isnull(),['udid']]\n",
        "non_ses['avg_login'] = 0\n",
        "non_avg = pd.concat([ses_non_avg,non_ses])'''\n",
        "\n",
        "#payer\n",
        "ses_payer_total = session1.loc[session1['first_p_date'].notnull() & (session1['date'] < session1['first_p_date'])].groupby(['udid','date']).session_num.size().reset_index(name = 'total_num_login')\n",
        "ses_payer_avg = ses_payer_total.groupby('udid').total_num_login.mean().reset_index(name = 'avg_login')\n",
        "\n",
        "ses_payer_hour1 = session1.loc[session1['first_p_date'].notnull() & (session1['date'] < session1['first_p_date'])].groupby(['udid']).hour.apply(pd.Series.mode).reset_index(name = 'freq_hour')\n",
        "ses_payer_hour = ses_payer_hour1.groupby('udid').freq_hour.max().reset_index(name = 'freq_hour_m')\n",
        "## first time login payer\n",
        "'''\n",
        "all_payerid = session1.loc[session1['first_p_date'].notnull(),['udid']]\n",
        "all_payerid.drop_duplicates(inplace = True)\n",
        "payer_avg = pd.merge(left = all_payerid,right =ses_payer_avg,how = 'left',on = 'udid' )\n",
        "payer_avg['avg_login'].fillna(0,inplace = True)'''\n",
        "\n",
        "#combine two types of users\n",
        "ses_avg = pd.concat([ses_non_avg,ses_payer_avg])\n",
        "ses_hour = pd.concat([ses_non_hour,ses_payer_hour])\n"
      ],
      "execution_count": 0,
      "outputs": []
    },
    {
      "cell_type": "markdown",
      "metadata": {
        "id": "rA78F3BjeUQm",
        "colab_type": "text"
      },
      "source": [
        "2.2.4 deal with spendevents features\n",
        "\n",
        "\n",
        "Create new feature: daily average gems spend per user (avg_spent)\n",
        "\n",
        "Create new feature: daily average gems earned per user, not including purchases (avg_earned)\n",
        "\n"
      ]
    },
    {
      "cell_type": "markdown",
      "metadata": {
        "id": "lFPkadTTeuUd",
        "colab_type": "text"
      },
      "source": [
        "Discuss non-payer and payer separately:\n",
        "\n",
        "non-payer: calculate daily average gems spent/earned for all times\n",
        "\n",
        "payer: calculate daily average gems spent/earned before first purchase."
      ]
    },
    {
      "cell_type": "code",
      "metadata": {
        "colab_type": "code",
        "id": "_A0oRR64faib",
        "colab": {}
      },
      "source": [
        "spendevents1 = pd.merge(left = first_p_date,right = spendevents,how = 'left',on = 'udid')\n",
        "\n",
        "#non-payer\n",
        "spent_non_total = spendevents1.loc[spendevents1['first_p_date'].isnull() & (spendevents1['amount'] > 0)].groupby(['udid','date']).amount.sum().reset_index(name = 'total_spent')\n",
        "spent_non_avg = spent_non_total.groupby('udid').total_spent.mean().reset_index(name = 'avg_spent')\n",
        "\n",
        "earn_non_total = spendevents1.loc[spendevents1['first_p_date'].isnull() & (spendevents1['amount'] < 0)& (spendevents1['spendtype']!='IAP')].groupby(['udid','date']).amount.sum().reset_index(name = 'total_earned')\n",
        "earn_non_avg = earn_non_total.groupby('udid').total_earned.mean().reset_index(name = 'avg_earned')\n",
        "\n",
        "#payer\n",
        "spent_payer_total = spendevents1.loc[spendevents1['first_p_date'].notnull() & (spendevents1['date'] < spendevents1['first_p_date']) & (spendevents1['amount'] > 0)].groupby(['udid','date']).amount.sum().reset_index(name = 'total_spent')\n",
        "spent_payer_avg = spent_payer_total.groupby('udid').total_spent.mean().reset_index(name = 'avg_spent')\n",
        "\n",
        "earn_payer_total = spendevents1.loc[spendevents1['first_p_date'].notnull() & (spendevents1['date'] < spendevents1['first_p_date'])& (spendevents1['spendtype']!='IAP') & (spendevents1['amount'] < 0)].groupby(['udid','date']).amount.sum().reset_index(name = 'total_earned')\n",
        "earn_payer_avg = earn_payer_total.groupby('udid').total_earned.mean().reset_index(name = 'avg_earned')\n",
        "\n",
        "#combine two types of users\n",
        "spent_avg = pd.concat([spent_non_avg,spent_payer_avg])\n",
        "earn_avg = pd.concat([earn_non_avg,earn_payer_avg])"
      ],
      "execution_count": 0,
      "outputs": []
    },
    {
      "cell_type": "markdown",
      "metadata": {
        "id": "wQW24Ln4z1hI",
        "colab_type": "text"
      },
      "source": [
        "### 2.3 Merge all dataset together"
      ]
    },
    {
      "cell_type": "code",
      "metadata": {
        "id": "htvXGPOg0Bs4",
        "colab_type": "code",
        "colab": {}
      },
      "source": [
        "iaps_user_spend = pd.merge(left = iaps_user, right = spent_avg, on = 'udid',how ='left')\n",
        "iaps_user_spend_ses = pd.merge(left = iaps_user_spend, right = ses_avg, on = 'udid',how ='left')\n",
        "iaps_user_spend_ses_earn = pd.merge(left = iaps_user_spend_ses, right = earn_avg, on = 'udid',how ='left')\n",
        "all_data = pd.merge(left = iaps_user_spend_ses_earn, right = ses_hour, on = 'udid',how ='left')"
      ],
      "execution_count": 0,
      "outputs": []
    },
    {
      "cell_type": "code",
      "metadata": {
        "id": "Aki6U3ATvSKR",
        "colab_type": "code",
        "colab": {
          "base_uri": "https://localhost:8080/",
          "height": 323
        },
        "outputId": "49db1fcd-13e7-4642-8bab-f31e07dd7b76"
      },
      "source": [
        "all_data.info()"
      ],
      "execution_count": 342,
      "outputs": [
        {
          "output_type": "stream",
          "text": [
            "<class 'pandas.core.frame.DataFrame'>\n",
            "Int64Index: 22576 entries, 0 to 22575\n",
            "Data columns (total 11 columns):\n",
            " #   Column        Non-Null Count  Dtype         \n",
            "---  ------        --------------  -----         \n",
            " 0   udid          22576 non-null  object        \n",
            " 1   install_date  22576 non-null  datetime64[ns]\n",
            " 2   language      22576 non-null  object        \n",
            " 3   country       22576 non-null  object        \n",
            " 4   hw_ver        22576 non-null  object        \n",
            " 5   os_ver        22576 non-null  object        \n",
            " 6   ifbuy         22576 non-null  float64       \n",
            " 7   avg_spent     3260 non-null   float64       \n",
            " 8   avg_login     21818 non-null  float64       \n",
            " 9   avg_earned    17222 non-null  float64       \n",
            " 10  freq_hour_m   21818 non-null  float64       \n",
            "dtypes: datetime64[ns](1), float64(5), object(5)\n",
            "memory usage: 2.1+ MB\n"
          ],
          "name": "stdout"
        }
      ]
    },
    {
      "cell_type": "markdown",
      "metadata": {
        "id": "RR3tuZ0lxMhE",
        "colab_type": "text"
      },
      "source": [
        "2.3.1 Filling all the missing value with 0"
      ]
    },
    {
      "cell_type": "code",
      "metadata": {
        "id": "2ZkTWz2BxMOW",
        "colab_type": "code",
        "colab": {}
      },
      "source": [
        "all_data[['avg_spent','avg_login','avg_earned','freq_hour_m']] = all_data[['avg_spent','avg_login','avg_earned','freq_hour_m']].fillna(0)"
      ],
      "execution_count": 0,
      "outputs": []
    },
    {
      "cell_type": "markdown",
      "metadata": {
        "id": "bDhSfQZ9yNLs",
        "colab_type": "text"
      },
      "source": [
        "2.3.2 Drop install date(irrelevent)"
      ]
    },
    {
      "cell_type": "code",
      "metadata": {
        "id": "CbfsoQ-AyTvO",
        "colab_type": "code",
        "colab": {}
      },
      "source": [
        "all_data = all_data.drop(['install_date'],axis = 1)"
      ],
      "execution_count": 0,
      "outputs": []
    },
    {
      "cell_type": "markdown",
      "metadata": {
        "colab_type": "text",
        "id": "0aC-GBoLyov2"
      },
      "source": [
        "# **Part 3: Modeling**\n"
      ]
    },
    {
      "cell_type": "code",
      "metadata": {
        "id": "HMexMgbclpmx",
        "colab_type": "code",
        "colab": {
          "base_uri": "https://localhost:8080/",
          "height": 316
        },
        "outputId": "73b65d73-a1c0-4566-9d03-e09d1693cc3b"
      },
      "source": [
        "sns.countplot(x='ifbuy', data=all_data).set(title = 'non-payer vs in app purchase ')"
      ],
      "execution_count": 345,
      "outputs": [
        {
          "output_type": "execute_result",
          "data": {
            "text/plain": [
              "[Text(0.5, 1.0, 'non-payer vs in app purchase ')]"
            ]
          },
          "metadata": {
            "tags": []
          },
          "execution_count": 345
        },
        {
          "output_type": "display_data",
          "data": {
            "image/png": "[encoded data removed]",
            "text/plain": [
              "<Figure size 432x288 with 1 Axes>"
            ]
          },
          "metadata": {
            "tags": []
          }
        }
      ]
    },
    {
      "cell_type": "markdown",
      "metadata": {
        "id": "h5NWNga7l4GM",
        "colab_type": "text"
      },
      "source": [
        "This dataset is a very inbalanced dataset, that's why we need to split proportionally."
      ]
    },
    {
      "cell_type": "markdown",
      "metadata": {
        "id": "OQqsP0wjy04K",
        "colab_type": "text"
      },
      "source": [
        "### 3.1 Spilt the dataset into train(train + validation) and test set with the same ratio of two types of users"
      ]
    },
    {
      "cell_type": "code",
      "metadata": {
        "id": "Dfp0L1En0A0u",
        "colab_type": "code",
        "colab": {}
      },
      "source": [
        "#payer:\n",
        "payer_X = all_data.loc[all_data['ifbuy']==1].drop(['ifbuy'],axis = 1)\n",
        "payer_Y = all_data.loc[all_data['ifbuy']==1,['ifbuy']]\n",
        "\n",
        "#non-payer\n",
        "non_X = all_data.loc[all_data['ifbuy']==0].drop(['ifbuy'],axis = 1)\n",
        "non_Y = all_data.loc[all_data['ifbuy']==0,['ifbuy']]"
      ],
      "execution_count": 0,
      "outputs": []
    },
    {
      "cell_type": "code",
      "metadata": {
        "id": "AZv5KY3pyuWz",
        "colab_type": "code",
        "colab": {}
      },
      "source": [
        "X_p_train_t, X_p_test, y_p_train_t, y_p_test = train_test_split(payer_X, payer_Y, test_size=0.2,random_state = 5)\n",
        "X_p_train, X_p_val, y_p_train, y_p_val = train_test_split(X_p_train_t, y_p_train_t, test_size=0.1,random_state = 8)\n",
        "\n",
        "X_n_train_t, X_n_test, y_n_train_t, y_n_test = train_test_split(non_X, non_Y, test_size=0.2,random_state = 3)\n",
        "X_n_train, X_n_val, y_n_train, y_n_val = train_test_split(X_n_train_t, y_n_train_t, test_size=0.1,random_state = 8)\n",
        "\n",
        "X_train = pd.concat([X_p_train,X_n_train])\n",
        "Y_train = pd.concat([y_p_train,y_n_train])\n",
        "train = pd.concat([X_train,Y_train],axis = 1)\n",
        "\n",
        "X_val = pd.concat([X_p_val,X_n_val])\n",
        "Y_val = pd.concat([y_p_val,y_n_val])\n",
        "val = pd.concat([X_val,Y_val],axis = 1)\n",
        "\n",
        "X_test = pd.concat([X_p_test,X_n_test])\n",
        "Y_test = pd.concat([y_p_test,y_n_test])\n",
        "test = pd.concat([X_test,Y_test],axis = 1)\n"
      ],
      "execution_count": 0,
      "outputs": []
    },
    {
      "cell_type": "markdown",
      "metadata": {
        "id": "-xKcTEKR2TBK",
        "colab_type": "text"
      },
      "source": [
        "### 3.2 Implement random forest model"
      ]
    },
    {
      "cell_type": "code",
      "metadata": {
        "id": "M8dhg5Fm2X-a",
        "colab_type": "code",
        "colab": {
          "base_uri": "https://localhost:8080/",
          "height": 922
        },
        "outputId": "1afd4a5f-8546-430f-cad0-3f646f5e32cf"
      },
      "source": [
        "h2o.init()\n",
        "h2o_X_train = H2OFrame(X_train,column_types={'os_ver': 'enum','freq_hour_m': 'enum'})\n",
        "h2o_Y_train = H2OFrame(Y_train,column_types={'ifbuy': 'enum'})\n",
        "h2o_X_val = H2OFrame(X_val,column_types={'os_ver': 'enum','freq_hour_m': 'enum'})\n",
        "h2o_Y_val = H2OFrame(Y_val,column_types={'ifbuy': 'enum'})\n",
        "h2o_X_test = H2OFrame(X_test,column_types={'os_ver': 'enum','freq_hour_m': 'enum'})\n",
        "h2o_Y_test = H2OFrame(Y_test,column_types={'ifbuy': 'enum'})\n",
        "h2o_train = H2OFrame(train,column_types={'os_ver': 'enum','ifbuy': 'enum','freq_hour_m': 'enum'})\n",
        "h2o_val = H2OFrame(val,column_types={'os_ver': 'enum','ifbuy': 'enum','freq_hour_m': 'enum'})\n",
        "h2o_test = H2OFrame(test,column_types={'os_ver': 'enum','ifbuy': 'enum','freq_hour_m': 'enum'})\n",
        "\n",
        "h2o_train.summary()"
      ],
      "execution_count": 348,
      "outputs": [
        {
          "output_type": "stream",
          "text": [
            "Checking whether there is an H2O instance running at http://localhost:54321 . connected.\n"
          ],
          "name": "stdout"
        },
        {
          "output_type": "display_data",
          "data": {
            "text/html": [
              "<div style=\"overflow:auto\"><table style=\"width:50%\"><tr><td>H2O_cluster_uptime:</td>\n",
              "<td>4 hours 46 mins</td></tr>\n",
              "<tr><td>H2O_cluster_timezone:</td>\n",
              "<td>Etc/UTC</td></tr>\n",
              "<tr><td>H2O_data_parsing_timezone:</td>\n",
              "<td>UTC</td></tr>\n",
              "<tr><td>H2O_cluster_version:</td>\n",
              "<td>3.30.0.1</td></tr>\n",
              "<tr><td>H2O_cluster_version_age:</td>\n",
              "<td>8 days </td></tr>\n",
              "<tr><td>H2O_cluster_name:</td>\n",
              "<td>H2O_from_python_unknownUser_51o9ww</td></tr>\n",
              "<tr><td>H2O_cluster_total_nodes:</td>\n",
              "<td>1</td></tr>\n",
              "<tr><td>H2O_cluster_free_memory:</td>\n",
              "<td>5.621 Gb</td></tr>\n",
              "<tr><td>H2O_cluster_total_cores:</td>\n",
              "<td>4</td></tr>\n",
              "<tr><td>H2O_cluster_allowed_cores:</td>\n",
              "<td>4</td></tr>\n",
              "<tr><td>H2O_cluster_status:</td>\n",
              "<td>locked, healthy</td></tr>\n",
              "<tr><td>H2O_connection_url:</td>\n",
              "<td>http://localhost:54321</td></tr>\n",
              "<tr><td>H2O_connection_proxy:</td>\n",
              "<td>{\"http\": null, \"https\": null}</td></tr>\n",
              "<tr><td>H2O_internal_security:</td>\n",
              "<td>False</td></tr>\n",
              "<tr><td>H2O_API_Extensions:</td>\n",
              "<td>Amazon S3, XGBoost, Algos, AutoML, Core V3, TargetEncoder, Core V4</td></tr>\n",
              "<tr><td>Python_version:</td>\n",
              "<td>3.6.9 final</td></tr></table></div>"
            ],
            "text/plain": [
              "--------------------------  ------------------------------------------------------------------\n",
              "H2O_cluster_uptime:         4 hours 46 mins\n",
              "H2O_cluster_timezone:       Etc/UTC\n",
              "H2O_data_parsing_timezone:  UTC\n",
              "H2O_cluster_version:        3.30.0.1\n",
              "H2O_cluster_version_age:    8 days\n",
              "H2O_cluster_name:           H2O_from_python_unknownUser_51o9ww\n",
              "H2O_cluster_total_nodes:    1\n",
              "H2O_cluster_free_memory:    5.621 Gb\n",
              "H2O_cluster_total_cores:    4\n",
              "H2O_cluster_allowed_cores:  4\n",
              "H2O_cluster_status:         locked, healthy\n",
              "H2O_connection_url:         http://localhost:54321\n",
              "H2O_connection_proxy:       {\"http\": null, \"https\": null}\n",
              "H2O_internal_security:      False\n",
              "H2O_API_Extensions:         Amazon S3, XGBoost, Algos, AutoML, Core V3, TargetEncoder, Core V4\n",
              "Python_version:             3.6.9 final\n",
              "--------------------------  ------------------------------------------------------------------"
            ]
          },
          "metadata": {
            "tags": []
          }
        },
        {
          "output_type": "stream",
          "text": [
            "Parse progress: |█████████████████████████████████████████████████████████| 100%\n",
            "Parse progress: |█████████████████████████████████████████████████████████| 100%\n",
            "Parse progress: |█████████████████████████████████████████████████████████| 100%\n",
            "Parse progress: |█████████████████████████████████████████████████████████| 100%\n",
            "Parse progress: |█████████████████████████████████████████████████████████| 100%\n",
            "Parse progress: |█████████████████████████████████████████████████████████| 100%\n",
            "Parse progress: |█████████████████████████████████████████████████████████| 100%\n",
            "Parse progress: |█████████████████████████████████████████████████████████| 100%\n",
            "Parse progress: |█████████████████████████████████████████████████████████| 100%\n"
          ],
          "name": "stdout"
        },
        {
          "output_type": "display_data",
          "data": {
            "text/html": [
              "<table>\n",
              "<thead>\n",
              "<tr><th>       </th><th>udid                            </th><th>language  </th><th>country  </th><th>hw_ver   </th><th>os_ver  </th><th>avg_spent         </th><th>avg_login         </th><th>avg_earned         </th><th>freq_hour_m  </th><th>ifbuy  </th></tr>\n",
              "</thead>\n",
              "<tbody>\n",
              "<tr><td>type   </td><td>string                          </td><td>enum      </td><td>enum     </td><td>enum     </td><td>enum    </td><td>real              </td><td>real              </td><td>real               </td><td>enum         </td><td>enum   </td></tr>\n",
              "<tr><td>mins   </td><td>NaN                             </td><td>          </td><td>         </td><td>         </td><td>        </td><td>0.0               </td><td>0.0               </td><td>-3000026.0         </td><td>             </td><td>       </td></tr>\n",
              "<tr><td>mean   </td><td>NaN                             </td><td>          </td><td>         </td><td>         </td><td>        </td><td>3.5783162877554164</td><td>3.541461013395765 </td><td>-206.14231097146816</td><td>             </td><td>       </td></tr>\n",
              "<tr><td>maxs   </td><td>NaN                             </td><td>          </td><td>         </td><td>         </td><td>        </td><td>308.3529411764706 </td><td>76.75             </td><td>0.0                </td><td>             </td><td>       </td></tr>\n",
              "<tr><td>sigma  </td><td>NaN                             </td><td>          </td><td>         </td><td>         </td><td>        </td><td>9.840787193394812 </td><td>3.3736577246225403</td><td>23531.080252400418 </td><td>             </td><td>       </td></tr>\n",
              "<tr><td>zeros  </td><td>0                               </td><td>          </td><td>         </td><td>         </td><td>        </td><td>13926             </td><td>539               </td><td>3863               </td><td>             </td><td>       </td></tr>\n",
              "<tr><td>missing</td><td>0                               </td><td>0         </td><td>0        </td><td>0        </td><td>0       </td><td>0                 </td><td>0                 </td><td>0                  </td><td>0            </td><td>0      </td></tr>\n",
              "<tr><td>0      </td><td>76863014f8d145a0a37517bed8a82aa4</td><td>tr        </td><td>TR       </td><td>iPhone7,1</td><td>9.2.1   </td><td>0.0               </td><td>25.0              </td><td>-22.0              </td><td>14.0         </td><td>1.0    </td></tr>\n",
              "<tr><td>1      </td><td>8afc44b879a94b5b946a39b78075c744</td><td>en        </td><td>US       </td><td>iPhone8,1</td><td>9.2.1   </td><td>0.0               </td><td>20.0              </td><td>-22.0              </td><td>11.0         </td><td>1.0    </td></tr>\n",
              "<tr><td>2      </td><td>e6c7cb751ace409c8f77d2d9e00f31e8</td><td>en        </td><td>GB       </td><td>iPhone7,1</td><td>9.2.1   </td><td>0.0               </td><td>1.5               </td><td>-22.0              </td><td>14.0         </td><td>1.0    </td></tr>\n",
              "<tr><td>3      </td><td>81deb91170eb4e1ba671e7f9a1a95f12</td><td>en        </td><td>US       </td><td>iPhone8,1</td><td>9.2.1   </td><td>0.0               </td><td>16.0              </td><td>-66.0              </td><td>9.0          </td><td>1.0    </td></tr>\n",
              "<tr><td>4      </td><td>5a4ec61153264e1591c7063770ad866c</td><td>en        </td><td>US       </td><td>iPhone5,1</td><td>9.2.1   </td><td>0.0               </td><td>0.0               </td><td>0.0                </td><td>0.0          </td><td>1.0    </td></tr>\n",
              "<tr><td>5      </td><td>af00a006bb9643b0bc960a7393eadf49</td><td>en        </td><td>US       </td><td>iPhone5,2</td><td>9.1     </td><td>0.0               </td><td>0.0               </td><td>0.0                </td><td>0.0          </td><td>1.0    </td></tr>\n",
              "<tr><td>6      </td><td>b78b1af1ca46467199dfd6911ddd1a8e</td><td>en        </td><td>US       </td><td>iPhone6,1</td><td>9.2.1   </td><td>0.0               </td><td>0.0               </td><td>0.0                </td><td>0.0          </td><td>1.0    </td></tr>\n",
              "<tr><td>7      </td><td>10b59e3f18154936a12fdf740230d94c</td><td>en        </td><td>US       </td><td>iPhone6,1</td><td>9.1     </td><td>0.0               </td><td>0.0               </td><td>0.0                </td><td>0.0          </td><td>1.0    </td></tr>\n",
              "<tr><td>8      </td><td>9a27cd8abe164d4f91d660bb648ae5c3</td><td>en        </td><td>US       </td><td>iPhone8,1</td><td>9.1     </td><td>0.0               </td><td>0.0               </td><td>0.0                </td><td>0.0          </td><td>1.0    </td></tr>\n",
              "<tr><td>9      </td><td>a495fa44cc28482b82a6c26db31cf65c</td><td>en        </td><td>US       </td><td>iPhone6,1</td><td>9.2.1   </td><td>0.0               </td><td>0.0               </td><td>0.0                </td><td>0.0          </td><td>1.0    </td></tr>\n",
              "</tbody>\n",
              "</table>"
            ]
          },
          "metadata": {
            "tags": []
          }
        }
      ]
    },
    {
      "cell_type": "code",
      "metadata": {
        "id": "bJjqaD-n6o2x",
        "colab_type": "code",
        "colab": {}
      },
      "source": [
        "#Define the grid parameters\n",
        "estimator = H2ORandomForestEstimator(\n",
        "    # Stops fitting new trees when 10-tree rolling average is within 0.00001\n",
        "    stopping_rounds = 10,\n",
        "    stopping_tolerance = 0.00001,\n",
        "    score_each_iteration = True,\n",
        "    stopping_metric = 'auc',\n",
        "    balance_classes = True,\n",
        "    seed = 7)\n",
        "\n",
        "hyper_parameters = {'ntrees':[5, 10, 20, 30, 40, 50, 60], \n",
        "                    'max_depth':[5, 10, 20, 30, 40, 50, 60]}\n",
        "\n",
        "criteria = {\"strategy\": \"RandomDiscrete\", \n",
        "            \"stopping_rounds\": 10,\n",
        "            \"stopping_tolerance\": 0.00001,\n",
        "            \"stopping_metric\": \"misclassification\"}\n",
        "\n",
        "grid_search = H2OGridSearch(model = estimator, \n",
        "                            hyper_params = hyper_parameters,\n",
        "                            search_criteria = criteria)"
      ],
      "execution_count": 0,
      "outputs": []
    },
    {
      "cell_type": "code",
      "metadata": {
        "id": "AIdT01MO75BI",
        "colab_type": "code",
        "outputId": "b6bf0ecd-0655-41f2-bed3-c3377c3a6772",
        "colab": {
          "base_uri": "https://localhost:8080/",
          "height": 34
        }
      },
      "source": [
        "#Now train the network\n",
        "feature = ['language','country','hw_ver','os_ver','avg_spent','avg_login','avg_earned','freq_hour_m']\n",
        "target = 'ifbuy'\n",
        "\n",
        "grid_search.train(x = feature,\n",
        "                  y = target,\n",
        "                  training_frame = h2o_train,\n",
        "                  validation_frame = h2o_val)"
      ],
      "execution_count": 350,
      "outputs": [
        {
          "output_type": "stream",
          "text": [
            "drf Grid Build progress: |████████████████████████████████████████████████| 100%\n"
          ],
          "name": "stdout"
        }
      ]
    },
    {
      "cell_type": "code",
      "metadata": {
        "id": "D8H7GxOt8DlQ",
        "colab_type": "code",
        "outputId": "06c1a40d-3c08-4e3f-a0aa-7778620b5763",
        "colab": {
          "base_uri": "https://localhost:8080/",
          "height": 85
        }
      },
      "source": [
        "#Sort the grid models by decreasing AUC\n",
        "sorted_grid = grid_search.get_grid(sort_by='auc',decreasing=True)\n",
        "# print('Best model sorted by auc:\\n', sorted_grid.models[0])\n",
        "\n",
        "best_max_depth  = sorted_grid.sorted_metric_table()['max_depth'][0]\n",
        "best_ntrees     = sorted_grid.sorted_metric_table()['ntrees'][0]\n",
        "best_auc        = sorted_grid.sorted_metric_table()['auc'][0]\n",
        "sorted_grid_mse = grid_search.get_grid(sort_by='mse',decreasing=True)\n",
        "best_mse        = sorted_grid_mse.sorted_metric_table()['mse'][0]\n",
        "\n",
        "print('Best max_depth.....', best_max_depth)\n",
        "print('Best ntrees........', best_ntrees)\n",
        "print('Best auc...........', best_auc)\n",
        "print('Best mse...........', best_mse)"
      ],
      "execution_count": 351,
      "outputs": [
        {
          "output_type": "stream",
          "text": [
            "Best max_depth..... 5\n",
            "Best ntrees........ 40\n",
            "Best auc........... 0.856657158989136\n",
            "Best mse........... 0.0419229442421989\n"
          ],
          "name": "stdout"
        }
      ]
    },
    {
      "cell_type": "code",
      "metadata": {
        "id": "eGzqiwor8t6h",
        "colab_type": "code",
        "outputId": "5113a737-60f6-4a8e-9f0a-89f6cf0e62da",
        "colab": {
          "base_uri": "https://localhost:8080/",
          "height": 34
        }
      },
      "source": [
        "#Now let’s use the best parameters\n",
        "best_rf = H2ORandomForestEstimator(\n",
        "    model_id = \"best_rf\",\n",
        "    ntrees = int(best_ntrees),\n",
        "    max_depth = int(best_max_depth),\n",
        "    stopping_rounds = 5,\n",
        "    stopping_metric = 'auc',\n",
        "    score_each_iteration = True,\n",
        "    balance_classes = True,\n",
        "    seed = 7)\n",
        "\n",
        "best_rf.train(feature, \n",
        "              target, \n",
        "              training_frame = h2o_train, \n",
        "              validation_frame = h2o_val)"
      ],
      "execution_count": 352,
      "outputs": [
        {
          "output_type": "stream",
          "text": [
            "drf Model Build progress: |███████████████████████████████████████████████| 100%\n"
          ],
          "name": "stdout"
        }
      ]
    },
    {
      "cell_type": "code",
      "metadata": {
        "id": "CICgtFR5oXNg",
        "colab_type": "code",
        "outputId": "beaa97f2-4b88-4e74-accc-f046178f9c80",
        "colab": {
          "base_uri": "https://localhost:8080/",
          "height": 369
        }
      },
      "source": [
        "# Feature importance\n",
        "importance = best_rf.varimp(use_pandas=True)\n",
        "\n",
        "fig, ax = plt.subplots(figsize=(8, 5))\n",
        "sns.barplot(x='scaled_importance', y='variable', data=importance)\n",
        "plt.tight_layout()\n",
        "plt.show()"
      ],
      "execution_count": 353,
      "outputs": [
        {
          "output_type": "display_data",
          "data": {
            "image/png": "[encoded data removed]",
            "text/plain": [
              "<Figure size 576x360 with 1 Axes>"
            ]
          },
          "metadata": {
            "tags": []
          }
        }
      ]
    },
    {
      "cell_type": "markdown",
      "metadata": {
        "id": "LgX-nOeNHfBf",
        "colab_type": "text"
      },
      "source": [
        "we can see from the importance graph above, frequent hour, daily average earned, daily login,hw version seems to be the most importance features here."
      ]
    },
    {
      "cell_type": "code",
      "metadata": {
        "id": "VRJBX9I_WUEd",
        "colab_type": "code",
        "colab": {
          "base_uri": "https://localhost:8080/",
          "height": 170
        },
        "outputId": "b2c80164-26df-4100-df27-9cd656be2103"
      },
      "source": [
        "print(classification_report(y_true=h2o_Y_test.as_data_frame().values, y_pred = predictions['predict'].as_data_frame().values))"
      ],
      "execution_count": 354,
      "outputs": [
        {
          "output_type": "stream",
          "text": [
            "              precision    recall  f1-score   support\n",
            "\n",
            "         0.0       0.97      0.99      0.98      4210\n",
            "         1.0       0.76      0.65      0.70       306\n",
            "\n",
            "    accuracy                           0.96      4516\n",
            "   macro avg       0.87      0.82      0.84      4516\n",
            "weighted avg       0.96      0.96      0.96      4516\n",
            "\n"
          ],
          "name": "stdout"
        }
      ]
    },
    {
      "cell_type": "markdown",
      "metadata": {
        "id": "RPqRW9flWnuf",
        "colab_type": "text"
      },
      "source": [
        "The performance here is fine, F1 socre here for both non-payer and payer prediction is above 0.7."
      ]
    },
    {
      "cell_type": "code",
      "metadata": {
        "id": "0_bC5TGKyIPV",
        "colab_type": "code",
        "colab": {
          "base_uri": "https://localhost:8080/",
          "height": 299
        },
        "outputId": "7a918d5e-9cc4-4831-a78e-ed533078714b"
      },
      "source": [
        "def ROC_Curve(model, df):\n",
        "    performance = model.model_performance(df)  \n",
        "    auc = performance.auc()\n",
        "    false_positive_rate = performance.fprs\n",
        "    true_positive_rate = performance.tprs\n",
        "\n",
        "    plt.style.use('ggplot')\n",
        "    plt.figure()\n",
        "    plt.plot(false_positive_rate, true_positive_rate, 'k--')\n",
        "    plt.plot(false_positive_rate, \n",
        "             true_positive_rate, \n",
        "             color='darkorange',\n",
        "             lw = 2,\n",
        "             label='ROC curve (area = %0.2f)' % auc)\n",
        "    plt.plot([0,1], [0,1], color = 'navy', lw = 2, linestyle = '--')\n",
        "    plt.xlim([0.0, 1.0])\n",
        "    plt.ylim([0.0, 1.05])\n",
        "    plt.xlabel('False positive rate')\n",
        "    plt.ylabel('True positive rate')\n",
        "    plt.title('ROC curve')\n",
        "    plt.legend(loc='best')\n",
        "    plt.show()\n",
        "ROC_Curve(best_rf, h2o_test)"
      ],
      "execution_count": 355,
      "outputs": [
        {
          "output_type": "display_data",
          "data": {
            "image/png": "[encoded data removed]",
            "text/plain": [
              "<Figure size 432x288 with 1 Axes>"
            ]
          },
          "metadata": {
            "tags": []
          }
        }
      ]
    },
    {
      "cell_type": "markdown",
      "metadata": {
        "id": "UtRgBFIxXKy_",
        "colab_type": "text"
      },
      "source": [
        "Model on the testing dataset perform pretty well based on ROC curve. AUC reaches 0.83"
      ]
    },
    {
      "cell_type": "code",
      "metadata": {
        "id": "x2syvJ7ylQet",
        "colab_type": "code",
        "colab": {
          "base_uri": "https://localhost:8080/",
          "height": 204
        },
        "outputId": "7b8f5e64-0a21-4d9c-87a6-2130f938b25d"
      },
      "source": [
        "all_data.head()"
      ],
      "execution_count": 356,
      "outputs": [
        {
          "output_type": "execute_result",
          "data": {
            "text/html": [
              "<div>\n",
              "<style scoped>\n",
              "    .dataframe tbody tr th:only-of-type {\n",
              "        vertical-align: middle;\n",
              "    }\n",
              "\n",
              "    .dataframe tbody tr th {\n",
              "        vertical-align: top;\n",
              "    }\n",
              "\n",
              "    .dataframe thead th {\n",
              "        text-align: right;\n",
              "    }\n",
              "</style>\n",
              "<table border=\"1\" class=\"dataframe\">\n",
              "  <thead>\n",
              "    <tr style=\"text-align: right;\">\n",
              "      <th></th>\n",
              "      <th>udid</th>\n",
              "      <th>language</th>\n",
              "      <th>country</th>\n",
              "      <th>hw_ver</th>\n",
              "      <th>os_ver</th>\n",
              "      <th>ifbuy</th>\n",
              "      <th>avg_spent</th>\n",
              "      <th>avg_login</th>\n",
              "      <th>avg_earned</th>\n",
              "      <th>freq_hour_m</th>\n",
              "    </tr>\n",
              "  </thead>\n",
              "  <tbody>\n",
              "    <tr>\n",
              "      <th>0</th>\n",
              "      <td>f22d7b9cbc03439e9b9db52725b439fc</td>\n",
              "      <td>en</td>\n",
              "      <td>AU</td>\n",
              "      <td>iPhone4,1</td>\n",
              "      <td>8.4</td>\n",
              "      <td>0.0</td>\n",
              "      <td>0.0</td>\n",
              "      <td>1.0</td>\n",
              "      <td>-22.0</td>\n",
              "      <td>1.0</td>\n",
              "    </tr>\n",
              "    <tr>\n",
              "      <th>1</th>\n",
              "      <td>4f88b3047dbb4637b5b46a011a2aa3d9</td>\n",
              "      <td>de</td>\n",
              "      <td>CH</td>\n",
              "      <td>iPhone7,2</td>\n",
              "      <td>9.2.1</td>\n",
              "      <td>0.0</td>\n",
              "      <td>0.0</td>\n",
              "      <td>3.0</td>\n",
              "      <td>-44.0</td>\n",
              "      <td>4.0</td>\n",
              "    </tr>\n",
              "    <tr>\n",
              "      <th>2</th>\n",
              "      <td>d92be71922e24c2f8b1bc034171d23ba</td>\n",
              "      <td>it</td>\n",
              "      <td>IT</td>\n",
              "      <td>iPad3,3</td>\n",
              "      <td>9.2.1</td>\n",
              "      <td>0.0</td>\n",
              "      <td>0.0</td>\n",
              "      <td>4.5</td>\n",
              "      <td>-44.0</td>\n",
              "      <td>4.0</td>\n",
              "    </tr>\n",
              "    <tr>\n",
              "      <th>3</th>\n",
              "      <td>c8ea7938be1b43c7b504fc2b85563417</td>\n",
              "      <td>en</td>\n",
              "      <td>US</td>\n",
              "      <td>iPhone7,2</td>\n",
              "      <td>9.2.1</td>\n",
              "      <td>0.0</td>\n",
              "      <td>0.0</td>\n",
              "      <td>2.8</td>\n",
              "      <td>-22.0</td>\n",
              "      <td>17.0</td>\n",
              "    </tr>\n",
              "    <tr>\n",
              "      <th>4</th>\n",
              "      <td>3bbc06e684724fdaa30995075641049c</td>\n",
              "      <td>nl</td>\n",
              "      <td>NL</td>\n",
              "      <td>iPhone6,2</td>\n",
              "      <td>9.2.1</td>\n",
              "      <td>0.0</td>\n",
              "      <td>0.0</td>\n",
              "      <td>3.0</td>\n",
              "      <td>-54.0</td>\n",
              "      <td>5.0</td>\n",
              "    </tr>\n",
              "  </tbody>\n",
              "</table>\n",
              "</div>"
            ],
            "text/plain": [
              "                               udid language country     hw_ver os_ver  ifbuy  \\\n",
              "0  f22d7b9cbc03439e9b9db52725b439fc       en      AU  iPhone4,1    8.4    0.0   \n",
              "1  4f88b3047dbb4637b5b46a011a2aa3d9       de      CH  iPhone7,2  9.2.1    0.0   \n",
              "2  d92be71922e24c2f8b1bc034171d23ba       it      IT    iPad3,3  9.2.1    0.0   \n",
              "3  c8ea7938be1b43c7b504fc2b85563417       en      US  iPhone7,2  9.2.1    0.0   \n",
              "4  3bbc06e684724fdaa30995075641049c       nl      NL  iPhone6,2  9.2.1    0.0   \n",
              "\n",
              "   avg_spent  avg_login  avg_earned  freq_hour_m  \n",
              "0        0.0        1.0       -22.0          1.0  \n",
              "1        0.0        3.0       -44.0          4.0  \n",
              "2        0.0        4.5       -44.0          4.0  \n",
              "3        0.0        2.8       -22.0         17.0  \n",
              "4        0.0        3.0       -54.0          5.0  "
            ]
          },
          "metadata": {
            "tags": []
          },
          "execution_count": 356
        }
      ]
    },
    {
      "cell_type": "markdown",
      "metadata": {
        "id": "KocvDDYGlCFK",
        "colab_type": "text"
      },
      "source": [
        "# Part 4: Feature Analysis and Visualization\n"
      ]
    },
    {
      "cell_type": "markdown",
      "metadata": {
        "id": "RokI5K-OuxFR",
        "colab_type": "text"
      },
      "source": [
        "### 4.1 Most frequent login hour"
      ]
    },
    {
      "cell_type": "code",
      "metadata": {
        "id": "IGzWIuLxmYpZ",
        "colab_type": "code",
        "colab": {
          "base_uri": "https://localhost:8080/",
          "height": 274
        },
        "outputId": "bfe6e2fe-72a4-4ac1-b0a1-abdbe05b2983"
      },
      "source": [
        "# grid = sns.FacetGrid(train_df, col='Pclass', hue='Survived')\n",
        "grid = sns.FacetGrid(all_data, col='ifbuy', size=3.2, aspect=1.6)\n",
        "grid.map(plt.hist, 'freq_hour_m', alpha=.5, bins=20)\n",
        "grid.add_legend();"
      ],
      "execution_count": 357,
      "outputs": [
        {
          "output_type": "stream",
          "text": [
            "/usr/local/lib/python3.6/dist-packages/seaborn/axisgrid.py:243: UserWarning: The `size` parameter has been renamed to `height`; please update your code.\n",
            "  warnings.warn(msg, UserWarning)\n"
          ],
          "name": "stderr"
        },
        {
          "output_type": "display_data",
          "data": {
            "image/png": "[encoded data removed]",
            "text/plain": [
              "<Figure size 745.28x230.4 with 2 Axes>"
            ]
          },
          "metadata": {
            "tags": []
          }
        }
      ]
    },
    {
      "cell_type": "markdown",
      "metadata": {
        "id": "aeaeuRGSnZEh",
        "colab_type": "text"
      },
      "source": [
        "From the grapy above, we can see that for non-payer, there are 4 peaks that they are most frequently playing the games: around 0am, 7am, 4pm, 11pm\n",
        "\n",
        "For payers, they are most likey playing around 0am."
      ]
    },
    {
      "cell_type": "code",
      "metadata": {
        "id": "I7V9ui3doZZX",
        "colab_type": "code",
        "colab": {}
      },
      "source": [
        "num_hour = all_data.groupby(['freq_hour_m','ifbuy']).size().reset_index(name = 'num_hour')\n",
        "num_hour_payer = num_hour.loc[num_hour['ifbuy']==1,['freq_hour_m','ifbuy','num_hour']]\n",
        "total = num_hour.groupby('freq_hour_m').num_hour.sum().reset_index(name = 'total')\n",
        "hour_data = pd.merge(left = num_hour_payer,right = total,on = 'freq_hour_m')\n",
        "hour_data['conversion rate'] = hour_data['num_hour'] /hour_data['total']"
      ],
      "execution_count": 0,
      "outputs": []
    },
    {
      "cell_type": "code",
      "metadata": {
        "id": "kVWEZzL8rOqN",
        "colab_type": "code",
        "colab": {
          "base_uri": "https://localhost:8080/",
          "height": 371
        },
        "outputId": "c633749f-3af4-441c-b246-fc15114cb821"
      },
      "source": [
        "fig, ax = plt.subplots(nrows=1, ncols=1, figsize=(20, 5))\n",
        "sns.barplot(x='freq_hour_m',y = 'conversion rate', data=hour_data).set(title = 'frequent hour distribution')"
      ],
      "execution_count": 359,
      "outputs": [
        {
          "output_type": "execute_result",
          "data": {
            "text/plain": [
              "[Text(0.5, 1.0, 'frequent hour distribution')]"
            ]
          },
          "metadata": {
            "tags": []
          },
          "execution_count": 359
        },
        {
          "output_type": "display_data",
          "data": {
            "image/png": "[encoded data removed]",
            "text/plain": [
              "<Figure size 1440x360 with 1 Axes>"
            ]
          },
          "metadata": {
            "tags": []
          }
        }
      ]
    },
    {
      "cell_type": "markdown",
      "metadata": {
        "id": "EDce69nkuQLo",
        "colab_type": "text"
      },
      "source": [
        "From the hour distribution graph, we can see that 0am has the highest conversion rate. Besides 0am, it seems users are more likely to pay during night times."
      ]
    },
    {
      "cell_type": "markdown",
      "metadata": {
        "id": "MikYXWTZu6li",
        "colab_type": "text"
      },
      "source": [
        "### 4.2 Daily average login times"
      ]
    },
    {
      "cell_type": "code",
      "metadata": {
        "colab_type": "code",
        "outputId": "96b87db3-008d-493c-c51c-e2068df2a606",
        "id": "W03wH8MrvE-8",
        "colab": {
          "base_uri": "https://localhost:8080/",
          "height": 274
        }
      },
      "source": [
        "# grid = sns.FacetGrid(train_df, col='Pclass', hue='Survived')\n",
        "all_data['avg_login'] = round(all_data['avg_login'],0)\n",
        "grid = sns.FacetGrid(all_data, col='ifbuy', size=3.2, aspect=1.6)\n",
        "grid.map(plt.hist, 'avg_login', alpha=.5, bins=20)\n",
        "grid.add_legend();"
      ],
      "execution_count": 360,
      "outputs": [
        {
          "output_type": "stream",
          "text": [
            "/usr/local/lib/python3.6/dist-packages/seaborn/axisgrid.py:243: UserWarning: The `size` parameter has been renamed to `height`; please update your code.\n",
            "  warnings.warn(msg, UserWarning)\n"
          ],
          "name": "stderr"
        },
        {
          "output_type": "display_data",
          "data": {
            "image/png": "[encoded data removed]",
            "text/plain": [
              "<Figure size 745.28x230.4 with 2 Axes>"
            ]
          },
          "metadata": {
            "tags": []
          }
        }
      ]
    },
    {
      "cell_type": "code",
      "metadata": {
        "colab_type": "code",
        "id": "LnSO0zsZvRqp",
        "colab": {}
      },
      "source": [
        "login_num = all_data.groupby(['avg_login','ifbuy']).size().reset_index(name = 'login_num')\n",
        "login_num_payer = login_num.loc[login_num['ifbuy']==1,['avg_login','ifbuy','login_num']]\n",
        "total1 = login_num.groupby('avg_login').login_num.sum().reset_index(name = 'total')\n",
        "login_data = pd.merge(left = login_num_payer,right = total1,on = 'avg_login')\n",
        "login_data['conversion rate'] = login_data['login_num'] /login_data['total']"
      ],
      "execution_count": 0,
      "outputs": []
    },
    {
      "cell_type": "code",
      "metadata": {
        "id": "saSFjep-v5dq",
        "colab_type": "code",
        "colab": {
          "base_uri": "https://localhost:8080/",
          "height": 371
        },
        "outputId": "e94cbd6a-e14f-4c2a-f9b5-c83c74e528ba"
      },
      "source": [
        "fig, ax = plt.subplots(nrows=1, ncols=1, figsize=(20, 5))\n",
        "sns.barplot(x='avg_login',y = 'conversion rate', data=login_data).set(title = 'daily login times distribution')"
      ],
      "execution_count": 362,
      "outputs": [
        {
          "output_type": "execute_result",
          "data": {
            "text/plain": [
              "[Text(0.5, 1.0, 'daily login times distribution')]"
            ]
          },
          "metadata": {
            "tags": []
          },
          "execution_count": 362
        },
        {
          "output_type": "display_data",
          "data": {
            "image/png": "[encoded data removed]",
            "text/plain": [
              "<Figure size 1440x360 with 1 Axes>"
            ]
          },
          "metadata": {
            "tags": []
          }
        }
      ]
    },
    {
      "cell_type": "markdown",
      "metadata": {
        "id": "jhGZKz1qyD6P",
        "colab_type": "text"
      },
      "source": [
        "From the daily login times distribution, we can see that users with 0 or 24-37 login times daily are most likely converted. 0 login times might be caused by information loss problem, we can ignore it. It seems that users who often play games are more likely pay."
      ]
    },
    {
      "cell_type": "markdown",
      "metadata": {
        "id": "7sV_gCOu1gSQ",
        "colab_type": "text"
      },
      "source": [
        "### 4.3 OS Version type"
      ]
    },
    {
      "cell_type": "code",
      "metadata": {
        "id": "A58lFWGm1vwC",
        "colab_type": "code",
        "colab": {
          "base_uri": "https://localhost:8080/",
          "height": 442
        },
        "outputId": "052594a2-30e2-439f-9294-da831030914a"
      },
      "source": [
        "# grid = sns.FacetGrid(train_df, col='Pclass', hue='Survived')\n",
        "grid = sns.FacetGrid(all_data, col='ifbuy', size=6.2, aspect=1.6)\n",
        "grid.map(plt.hist, 'hw_ver', alpha=.5, bins=20)\n",
        "grid.add_legend();"
      ],
      "execution_count": 369,
      "outputs": [
        {
          "output_type": "stream",
          "text": [
            "/usr/local/lib/python3.6/dist-packages/seaborn/axisgrid.py:243: UserWarning: The `size` parameter has been renamed to `height`; please update your code.\n",
            "  warnings.warn(msg, UserWarning)\n"
          ],
          "name": "stderr"
        },
        {
          "output_type": "display_data",
          "data": {
            "image/png": "[encoded data removed]",
            "text/plain": [
              "<Figure size 1436.48x446.4 with 2 Axes>"
            ]
          },
          "metadata": {
            "tags": []
          }
        }
      ]
    },
    {
      "cell_type": "code",
      "metadata": {
        "id": "XnUDpLUs189q",
        "colab_type": "code",
        "colab": {
          "base_uri": "https://localhost:8080/",
          "height": 330
        },
        "outputId": "93cfbe96-0517-4852-f33e-1b24ac3aeb11"
      },
      "source": [
        "hw_ver_num = all_data.groupby(['hw_ver','ifbuy']).size().reset_index(name = 'hw_ver_num')\n",
        "hw_ver_num_payer = hw_ver_num.loc[hw_ver_num['ifbuy']==1,['hw_ver','ifbuy','hw_ver_num']]\n",
        "total2 = hw_ver_num.groupby('hw_ver').hw_ver_num.sum().reset_index(name = 'total')\n",
        "hw_ver_data = pd.merge(left = hw_ver_num_payer,right = total2,on = 'hw_ver')\n",
        "hw_ver_data['conversion rate'] = hw_ver_data['hw_ver_num'] /hw_ver_data['total']\n",
        "\n",
        "fig, ax = plt.subplots(nrows=1, ncols=1, figsize=(25, 5))\n",
        "sns.barplot(x='hw_ver',y = 'conversion rate', data=hw_ver_data).set(title = 'hw_ver distribution')"
      ],
      "execution_count": 377,
      "outputs": [
        {
          "output_type": "execute_result",
          "data": {
            "text/plain": [
              "[Text(0.5, 1.0, 'hw_ver distribution')]"
            ]
          },
          "metadata": {
            "tags": []
          },
          "execution_count": 377
        },
        {
          "output_type": "display_data",
          "data": {
            "image/png": "[encoded data removed]",
            "text/plain": [
              "<Figure size 1800x360 with 1 Axes>"
            ]
          },
          "metadata": {
            "tags": []
          }
        }
      ]
    },
    {
      "cell_type": "markdown",
      "metadata": {
        "id": "kWQ4xCeF7H3n",
        "colab_type": "text"
      },
      "source": [
        "From the graph above, we notice that users who are using ipad 6.7 or 6.8 are more likely to convert."
      ]
    },
    {
      "cell_type": "markdown",
      "metadata": {
        "id": "l8ZAaJ-g7ffH",
        "colab_type": "text"
      },
      "source": [
        "### 4.4 Country"
      ]
    },
    {
      "cell_type": "code",
      "metadata": {
        "id": "WHi1A2WB7kL8",
        "colab_type": "code",
        "colab": {
          "base_uri": "https://localhost:8080/",
          "height": 274
        },
        "outputId": "9efeab9e-cea8-482b-8e31-f74b751b3d89"
      },
      "source": [
        "# grid = sns.FacetGrid(train_df, col='Pclass', hue='Survived')\n",
        "grid = sns.FacetGrid(all_data, col='ifbuy', size=3.2, aspect=1.6)\n",
        "grid.map(plt.hist, 'country', alpha=.5, bins=20)\n",
        "grid.add_legend();"
      ],
      "execution_count": 379,
      "outputs": [
        {
          "output_type": "stream",
          "text": [
            "/usr/local/lib/python3.6/dist-packages/seaborn/axisgrid.py:243: UserWarning: The `size` parameter has been renamed to `height`; please update your code.\n",
            "  warnings.warn(msg, UserWarning)\n"
          ],
          "name": "stderr"
        },
        {
          "output_type": "display_data",
          "data": {
            "image/png": "[encoded data removed]",
            "text/plain": [
              "<Figure size 745.28x230.4 with 2 Axes>"
            ]
          },
          "metadata": {
            "tags": []
          }
        }
      ]
    },
    {
      "cell_type": "code",
      "metadata": {
        "id": "Or7-r4pj7zE1",
        "colab_type": "code",
        "colab": {
          "base_uri": "https://localhost:8080/",
          "height": 332
        },
        "outputId": "59788dc4-8f4a-4890-908b-370d18885e7e"
      },
      "source": [
        "country_num = all_data.groupby(['country','ifbuy']).size().reset_index(name = 'country_num')\n",
        "country_num_payer = country_num.loc[country_num['ifbuy']==1,['country','ifbuy','country_num']]\n",
        "total3 = country_num.groupby('country').country_num.sum().reset_index(name = 'total')\n",
        "country_num_data = pd.merge(left = country_num_payer,right = total3,on = 'country')\n",
        "country_num_data['conversion rate'] = country_num_data['country_num'] /country_num_data['total']\n",
        "\n",
        "fig, ax = plt.subplots(nrows=1, ncols=1, figsize=(25, 5))\n",
        "sns.barplot(x='country',y = 'conversion rate', data=country_num_data).set(title = 'country distribution')"
      ],
      "execution_count": 383,
      "outputs": [
        {
          "output_type": "execute_result",
          "data": {
            "text/plain": [
              "[Text(0.5, 1.0, 'country distribution')]"
            ]
          },
          "metadata": {
            "tags": []
          },
          "execution_count": 383
        },
        {
          "output_type": "display_data",
          "data": {
            "image/png": "[encoded data removed]",
            "text/plain": [
              "<Figure size 1800x360 with 1 Axes>"
            ]
          },
          "metadata": {
            "tags": []
          }
        }
      ]
    },
    {
      "cell_type": "markdown",
      "metadata": {
        "id": "cQIg-snc8V1I",
        "colab_type": "text"
      },
      "source": [
        "From the country distribution graph above, we can see users from AD, AM, AS,BS,DZ,GU,PA,NZ,US seems have higher conversion rate. HT is the special case here, because few people from HT "
      ]
    },
    {
      "cell_type": "markdown",
      "metadata": {
        "id": "m9T6Szr08_Z1",
        "colab_type": "text"
      },
      "source": [
        "# Part 5: Conclusion"
      ]
    },
    {
      "cell_type": "markdown",
      "metadata": {
        "id": "mKEn92EI9EY3",
        "colab_type": "text"
      },
      "source": [
        "Among all our users, there are three features that payers are more likely to have:\n",
        "\n",
        "1. Users who likes playing at night are more likely to convert.\n",
        "2. Users who are using ipad 6.7 or 6.8 are more likely to convert.\n",
        "3. Users from AD, AM, AS,BS,DZ,GU,PA,NZ,US are more likely to convert."
      ]
    },
    {
      "cell_type": "markdown",
      "metadata": {
        "id": "kgHXWX-P-Xrv",
        "colab_type": "text"
      },
      "source": [
        "We have trained the model using limited datasets here. With more data obtained, we can train our model again to get a better performanced model.\n",
        "\n",
        "When a user plays for a short time and still haven't convert,  we can use this users feature to predict if he is likely to convert by himself or it is better we offer him the promotion encouraging him to pay."
      ]
    }
  ]
}